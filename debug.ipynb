{
 "cells": [
  {
   "cell_type": "code",
   "execution_count": 1,
   "id": "40632922",
   "metadata": {},
   "outputs": [],
   "source": [
    "import torch\n",
    "import numpy as np\n",
    "\n",
    "from scipy.io import loadmat"
   ]
  },
  {
   "cell_type": "code",
   "execution_count": 3,
   "id": "6ebf0e5a",
   "metadata": {},
   "outputs": [],
   "source": [
    "data = loadmat('../dataset/EEG_features/1.mat')"
   ]
  }
 ],
 "metadata": {
  "kernelspec": {
   "display_name": "cv_proj5_cuda",
   "language": "python",
   "name": "python3"
  },
  "language_info": {
   "codemirror_mode": {
    "name": "ipython",
    "version": 3
   },
   "file_extension": ".py",
   "mimetype": "text/x-python",
   "name": "python",
   "nbconvert_exporter": "python",
   "pygments_lexer": "ipython3",
   "version": "3.10.15"
  }
 },
 "nbformat": 4,
 "nbformat_minor": 5
}
