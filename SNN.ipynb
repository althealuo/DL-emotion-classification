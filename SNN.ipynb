{
 "cells": [
  {
   "cell_type": "code",
   "execution_count": 1,
   "id": "9aae7bb3-4d48-47d0-abd4-2b41d3ac5381",
   "metadata": {},
   "outputs": [],
   "source": [
    "from pathlib import Path\n",
    "\n",
    "import matplotlib.pyplot as plt\n",
    "import numpy as np\n",
    "import pandas as pd\n",
    "import scipy.io as sio\n",
    "import torch\n",
    "import torch.nn as nn\n",
    "import torch.optim as optim\n",
    "from torch.nn.utils.rnn import pack_padded_sequence, pad_sequence\n",
    "from torch.utils.data import DataLoader, Dataset, Subset"
   ]
  },
  {
   "cell_type": "code",
   "execution_count": 2,
   "id": "53aa2ec6-10b4-4c3c-9d3f-3994e23ab804",
   "metadata": {},
   "outputs": [],
   "source": [
    "# import torch\n",
    "# import torch.nn as nn\n",
    "# import torch.optim as optim\n",
    "import torch.nn.functional as F\n",
    "# from torchvision import datasets, transforms"
   ]
  },
  {
   "cell_type": "code",
   "execution_count": 3,
   "id": "e349e669-e11d-433f-a3a7-9d32a3e7695d",
   "metadata": {},
   "outputs": [],
   "source": [
    "import snntorch as snn\n",
    "import snntorch.spikeplot as splt\n",
    "# from IPython.display import HTML"
   ]
  },
  {
   "cell_type": "code",
   "execution_count": 4,
   "id": "393d5850-4dd8-460d-ae49-16a735df11fa",
   "metadata": {},
   "outputs": [
    {
     "name": "stdout",
     "output_type": "stream",
     "text": [
      "cuda\n"
     ]
    }
   ],
   "source": [
    "device = torch.device(\"cuda\") if torch.cuda.is_available() else torch.device(\"cpu\")\n",
    "print(device)"
   ]
  },
  {
   "cell_type": "code",
   "execution_count": null,
   "id": "92af65ba-0a5b-47b9-be41-15ae757b17e3",
   "metadata": {},
   "outputs": [],
   "source": [
    "\n",
    "DATASET_PATH = Path('SEED')\n",
    "EMOTIONS = {\n",
    "    'Neutral': 0,\n",
    "    'Happy': 1,\n",
    "    'Sad': 2,\n",
    "    'Anger': 3,\n",
    "    'Fear': 4,\n",
    "    'Disgust': 5,\n",
    "    'Surprise': 6\n",
    "}\n",
    "TRAIN_SPLIT = 0.8\n",
    "VALIDATION_SPLIT = 0.1\n",
    "\n",
    "HIDDEN_SIZE = 10\n",
    "LAYER_COUNT = 4\n",
    "\n",
    "BATCH_SIZE = 128\n",
    "LEARNING_RATE = 5e-5\n",
    "GRADIENT_CLIPPING_MAX_NORM = 0.1\n",
    "MAX_EPOCHS = 100\n",
    "EARLY_STOPPING_PATIENCE = 100\n",
    "PRINT_FREQUENCY_EPOCHS = 10\n",
    "\n",
    "\n",
    "NUM_STEPS = 8  # Adjust for poisson temporal depth\n",
    "FIXED_SEQ_LEN = 70\n",
    "\n"
   ]
  },
  {
   "cell_type": "code",
   "execution_count": 6,
   "id": "a48ebd78-32e5-4615-8ec0-a9f4d3f64d78",
   "metadata": {},
   "outputs": [],
   "source": [
    "\n",
    "class SeedDataset(Dataset):\n",
    "    def __init__(self):\n",
    "        self.features = []\n",
    "        for subject_index in range(1, 21):\n",
    "            subject_features = sio.loadmat(str(DATASET_PATH / 'EEG_features'\n",
    "                                               / f'{subject_index}.mat'))\n",
    "            for video_index in range(1, 81):\n",
    "                de_features = subject_features[f'de_LDS_{video_index}']\n",
    "                # Flatten the frequency band and EEG channel dimensions.\n",
    "                de_features = de_features.reshape(de_features.shape[0], -1)\n",
    "                # Shape: (sequence length, input size (5 * 62))\n",
    "                self.features.append(de_features)\n",
    "        labels = pd.read_excel(\n",
    "            DATASET_PATH / 'emotion_label_and_stimuli_order.xlsx', header=None,\n",
    "            usecols='B:U', skiprows=lambda row_index: row_index % 2 == 0\n",
    "        )\n",
    "        labels = labels.values.flatten().tolist()\n",
    "        labels = [EMOTIONS[label] for label in labels]\n",
    "        labels = labels * 20\n",
    "        self.labels = labels\n",
    "\n",
    "    def __len__(self) -> int:\n",
    "        return len(self.labels)\n",
    "\n",
    "    def __getitem__(self, idx) -> tuple[np.ndarray, int]:\n",
    "        return self.features[idx], self.labels[idx]\n",
    "\n"
   ]
  },
  {
   "cell_type": "code",
   "execution_count": 7,
   "id": "e0a7f870",
   "metadata": {},
   "outputs": [
    {
     "name": "stdout",
     "output_type": "stream",
     "text": [
      "1600\n",
      "(array([[26.35287574, 27.35400046, 27.24510979, ..., 15.19771485,\n",
      "        15.32183227, 15.35056856],\n",
      "       [26.35106677, 27.35408187, 27.2440835 , ..., 15.19913513,\n",
      "        15.32243371, 15.35182064],\n",
      "       [26.3545593 , 27.35613658, 27.24467413, ..., 15.20061924,\n",
      "        15.32347101, 15.35357   ],\n",
      "       ...,\n",
      "       [26.40828782, 27.35588376, 27.25665373, ..., 15.2133756 ,\n",
      "        15.33720278, 15.38302023],\n",
      "       [26.40705078, 27.35320526, 27.25430671, ..., 15.21125846,\n",
      "        15.33683886, 15.38170078],\n",
      "       [26.40681781, 27.34966302, 27.25159395, ..., 15.21022576,\n",
      "        15.33692793, 15.3811932 ]], shape=(15, 310)), 1)\n"
     ]
    }
   ],
   "source": [
    "dataset = SeedDataset()\n",
    "row_count = len(dataset)\n",
    "print(row_count)\n",
    "print(dataset[0])"
   ]
  },
  {
   "cell_type": "code",
   "execution_count": 8,
   "id": "28b55422",
   "metadata": {},
   "outputs": [
    {
     "data": {
      "image/png": "[encoded data removed]",
      "text/plain": [
       "<Figure size 640x480 with 1 Axes>"
      ]
     },
     "metadata": {},
     "output_type": "display_data"
    },
    {
     "name": "stdout",
     "output_type": "stream",
     "text": [
      "Min: 13, Max: 87, Mean: 43.6\n"
     ]
    }
   ],
   "source": [
    "\n",
    "seq_lens = []\n",
    "for i in range(len(dataset)):\n",
    "    seq = dataset[i][0]\n",
    "    seq_lens.append(seq.shape[0])\n",
    "plt.hist(seq_lens, bins=20)\n",
    "plt.xlabel('Sequence Length')\n",
    "plt.ylabel('Count')\n",
    "plt.title('Distribution of Sequence Lengths in SEED')\n",
    "plt.show()\n",
    "print(f\"Min: {min(seq_lens)}, Max: {max(seq_lens)}, Mean: {sum(seq_lens)/len(seq_lens):.1f}\")"
   ]
  },
  {
   "cell_type": "code",
   "execution_count": 9,
   "id": "ca2aaf9d",
   "metadata": {},
   "outputs": [],
   "source": [
    "def poisson_encode(features, num_steps=20):\n",
    "    \"\"\"\n",
    "    features: torch.Tensor, shape (sequence_len, feature_dim)\n",
    "    Returns: torch.Tensor, shape (num_steps, sequence_len, feature_dim)\n",
    "    \"\"\"\n",
    "    # Normalize to [0, 1] for firing rates\n",
    "    features_norm = features / features.max()\n",
    "    # Poisson encoding: at each time step, a spike occurs if rand < rate\n",
    "    rand = torch.rand((num_steps, *features_norm.shape), device=features.device)\n",
    "    spikes = (rand < features_norm).float()\n",
    "    return spikes\n"
   ]
  },
  {
   "cell_type": "code",
   "execution_count": 10,
   "id": "923a30b6-68bd-4e7c-b82a-a4232d346ffa",
   "metadata": {},
   "outputs": [],
   "source": [
    "\n",
    "def get_data_loaders() -> tuple[DataLoader, DataLoader, DataLoader]:\n",
    "    dataset = SeedDataset()\n",
    "    row_count = len(dataset)\n",
    "    train_indices = list(range(0, int(TRAIN_SPLIT * row_count)))\n",
    "    validation_indices = list(range(\n",
    "        int(TRAIN_SPLIT * row_count),\n",
    "        int((TRAIN_SPLIT + VALIDATION_SPLIT) * row_count)))\n",
    "    test_indices = list(range(\n",
    "        int((TRAIN_SPLIT + VALIDATION_SPLIT) * row_count), row_count))\n",
    "    train_dataset = Subset(dataset, train_indices)\n",
    "    validation_dataset = Subset(dataset, validation_indices)\n",
    "    test_dataset = Subset(dataset, test_indices)\n",
    "\n",
    "    def collate_fn(batch, num_steps=20, fixed_seq_len=70): \n",
    "        feature_dim = batch[0][0].shape[1]\n",
    "        encoded_sequences = []\n",
    "        for seq, _ in batch:\n",
    "            seq_tensor = torch.tensor(seq, dtype=torch.float)\n",
    "            # Truncate if too long\n",
    "            if seq_tensor.shape[0] > fixed_seq_len:\n",
    "                seq_tensor = seq_tensor[:fixed_seq_len, :]\n",
    "            # Pad if too short\n",
    "            pad_len = fixed_seq_len - seq_tensor.shape[0]\n",
    "            if pad_len > 0:\n",
    "                pad = torch.zeros((pad_len, feature_dim), dtype=seq_tensor.dtype, device=seq_tensor.device)\n",
    "                seq_tensor = torch.cat([seq_tensor, pad], dim=0)\n",
    "            # Poisson encode\n",
    "            encoded = poisson_encode(seq_tensor, num_steps=num_steps)\n",
    "            encoded_sequences.append(encoded)\n",
    "        batch_spikes = torch.stack(encoded_sequences)\n",
    "        labels = torch.tensor([label for _, label in batch], dtype=torch.long)\n",
    "        return batch_spikes, labels\n",
    "\n",
    "\n",
    "    train_loader = DataLoader(\n",
    "        train_dataset,\n",
    "        batch_size=BATCH_SIZE,\n",
    "        shuffle=True,\n",
    "        collate_fn=lambda b: collate_fn(b, NUM_STEPS, FIXED_SEQ_LEN)\n",
    "    )\n",
    "    validation_loader = DataLoader(\n",
    "        validation_dataset,\n",
    "        batch_size=BATCH_SIZE,\n",
    "        shuffle=False,\n",
    "        collate_fn=lambda b: collate_fn(b, NUM_STEPS, FIXED_SEQ_LEN)\n",
    "    )\n",
    "    test_loader = DataLoader(\n",
    "        test_dataset,\n",
    "        batch_size=BATCH_SIZE,\n",
    "        shuffle=False,\n",
    "        collate_fn=lambda b: collate_fn(b, NUM_STEPS, FIXED_SEQ_LEN)\n",
    "    )\n",
    "    return train_loader, validation_loader, test_loader\n",
    "\n"
   ]
  },
  {
   "cell_type": "code",
   "execution_count": 11,
   "id": "12696027-e34f-47b8-bf11-1f355e68106e",
   "metadata": {},
   "outputs": [],
   "source": [
    "train_loader, validation_loader, test_loader = get_data_loaders()\n"
   ]
  },
  {
   "cell_type": "code",
   "execution_count": 12,
   "id": "29b35fa4",
   "metadata": {},
   "outputs": [
    {
     "name": "stdout",
     "output_type": "stream",
     "text": [
      "Dataloader output shapes:\n",
      "  batch_spikes: torch.Size([128, 8, 70, 310])\n",
      "  labels: torch.Size([128])\n"
     ]
    }
   ],
   "source": [
    "batch_spikes, labels = next(iter(train_loader))  # One batch\n",
    "\n",
    "print(f\"Dataloader output shapes:\")\n",
    "print(f\"  batch_spikes: {batch_spikes.shape}\")\n",
    "print(f\"  labels: {labels.shape}\")"
   ]
  },
  {
   "cell_type": "code",
   "execution_count": 13,
   "id": "a6eea485",
   "metadata": {},
   "outputs": [],
   "source": [
    "class LeakySurrogate(nn.Module):\n",
    "    def __init__(self, beta, z=2, threshold=0.8):\n",
    "        super(LeakySurrogate, self).__init__()\n",
    "\n",
    "        # initialize decay rate beta and threshold\n",
    "        self.beta = beta\n",
    "        self.threshold = threshold\n",
    "        self.spike_op = self.SpikeOperator.apply\n",
    "        self.z = z\n",
    "        self.mem = None\n",
    "\n",
    "    # the forward function is called each time we call Leaky\n",
    "    def forward(self, input_):\n",
    "        spk = self.spike_op(self.mem - self.threshold, self.z)  # call the Heaviside function\n",
    "        reset = (spk * self.threshold).detach() # removes spike_op gradient from reset\n",
    "        self.mem = self.beta * self.mem + input_ - reset\n",
    "        return spk\n",
    "\n",
    "    # forward pass: Heaviside function\n",
    "    @staticmethod\n",
    "    class SpikeOperator(torch.autograd.Function):\n",
    "        @staticmethod\n",
    "        def forward(ctx, input, z):\n",
    "            \"\"\"\n",
    "            In the forward pass we compute a step function of the input Tensor\n",
    "            and return it. ctx is a context object that we use to stash information which\n",
    "            we need to later backpropagate our error signals. To achieve this we use the\n",
    "            ctx.save_for_backward method.\n",
    "            \"\"\"\n",
    "            ctx.save_for_backward(input)\n",
    "            ctx.z = z\n",
    "            spk = torch.zeros_like(input)\n",
    "            spk[input > 0] = 1.0\n",
    "            return spk\n",
    "\n",
    "        @staticmethod\n",
    "        def backward(ctx, grad_output):\n",
    "            \"\"\"\n",
    "            In the backward pass we receive a Tensor we need to compute the\n",
    "            surrogate gradient of the loss with respect to the input.\n",
    "            Here we use the fast Sigmoid function with z = 1.\n",
    "            \"\"\"\n",
    "            input, = ctx.saved_tensors\n",
    "            z = ctx.z\n",
    "            grad_input = grad_output.clone()\n",
    "            grad = (\n",
    "                grad_input\n",
    "                * z * torch.exp(-z * input)\n",
    "                / (torch.exp(-z * input) + 1) ** 2\n",
    "            )\n",
    "            return grad, None"
   ]
  },
  {
   "cell_type": "code",
   "execution_count": 14,
   "id": "7880b78c",
   "metadata": {},
   "outputs": [],
   "source": [
    "class SNN(nn.Module):\n",
    "    def __init__(self, T, beta=0.8, z=1, threshold=1.0):\n",
    "        super(SNN, self).__init__()\n",
    "        self.T = T\n",
    "        self.flatten = nn.Flatten()\n",
    "        # 1st fully-connected layer\n",
    "        self.fc1 = nn.Linear(FIXED_SEQ_LEN * 310, HIDDEN_SIZE) # feature_dim = 310\n",
    "        self.lif1 = LeakySurrogate(beta=beta, z=z, threshold=threshold)\n",
    "        # 2nd fully-connected layer\n",
    "        self.fc2 = nn.Linear(HIDDEN_SIZE, 7)\n",
    "        # output layer neurons, whose firing rate will be served as the final prediction\n",
    "        self.lif2 = LeakySurrogate(beta=beta, z=z, threshold=threshold)\n",
    "\n",
    "    def init_mem(self, batch_size, feature_num, device):\n",
    "        return nn.init.kaiming_uniform_(torch.empty(batch_size, feature_num, device=device))\n",
    "\n",
    "    # define the forward pass\n",
    "    def forward(self, input_):\n",
    "        self.lif1.mem = self.init_mem(input_.shape[1], HIDDEN_SIZE, input_.device)\n",
    "        self.lif2.mem = self.init_mem(input_.shape[1], 7, input_.device)\n",
    "\n",
    "        output_spikes = 0\n",
    "        for t in range(self.T):\n",
    "            x = input_[t]\n",
    "            x = self.flatten(x)\n",
    "            x = self.fc1(x)\n",
    "            spk1 = self.lif1(x)\n",
    "            x = self.fc2(spk1)\n",
    "            spk2 = self.lif2(x)\n",
    "            output_spikes = output_spikes + spk2\n",
    "\n",
    "        return output_spikes / self.T"
   ]
  },
  {
   "cell_type": "code",
   "execution_count": 15,
   "id": "6ec55ba5",
   "metadata": {},
   "outputs": [
    {
     "name": "stdout",
     "output_type": "stream",
     "text": [
      "cuda\n"
     ]
    }
   ],
   "source": [
    "\n",
    "print(device)"
   ]
  },
  {
   "cell_type": "code",
   "execution_count": 16,
   "id": "a7887793",
   "metadata": {},
   "outputs": [],
   "source": [
    "# # test\n",
    "# model = SNN(T=20).to(device)\n",
    "# batch_spikes = batch_spikes.to(device)\n",
    "# labels = labels.to(device)\n",
    "\n",
    "# batch_size, T, seq_len, feat_dim = batch_spikes.shape\n",
    "# input_dim = seq_len * feat_dim  # 82 * 310 = 25420\n",
    "# batch_spikes_reshaped = batch_spikes.view(batch_size, T, input_dim)\n",
    "# batch_spikes_reshaped = batch_spikes_reshaped.permute(1, 0, 2)  # (T, batch, input_dim)\n",
    "\n",
    "# print(\"Model input shape:\", batch_spikes_reshaped.shape)\n",
    "# # Model input shape: torch.Size([20, 128, 25420])\n",
    "# outputs = model(batch_spikes_reshaped)\n",
    "# print(\"Model output shape:\", outputs.shape)\n",
    "# # Should be (128, num_classes)"
   ]
  },
  {
   "cell_type": "code",
   "execution_count": 17,
   "id": "05eb1b2b",
   "metadata": {},
   "outputs": [],
   "source": [
    "def train_epoch(model: nn.Module, data_loader: DataLoader,\n",
    "                optimizer: optim.Optimizer, criterion: nn.Module,\n",
    "                device: torch.device) -> tuple[float, float]:\n",
    "    model.train()\n",
    "    total_loss = 0\n",
    "    total_count = 0\n",
    "    correct_count = 0\n",
    "    for batch in data_loader:\n",
    "        optimizer.zero_grad()\n",
    "        batch_spikes, labels = batch  # No sequence_lengths\n",
    "        batch_spikes = batch_spikes.to(device)\n",
    "        labels = labels.to(device)\n",
    "        # Prepare input for SNN: (batch, T, seq_len, feat_dim) → (batch, T, input_dim)\n",
    "        batch_size, T, seq_len, feat_dim = batch_spikes.shape\n",
    "        input_dim = seq_len * feat_dim\n",
    "        batch_spikes = batch_spikes.view(batch_size, T, input_dim)\n",
    "        # Permute to (T, batch, input_dim)\n",
    "        batch_spikes = batch_spikes.permute(1, 0, 2)\n",
    "        outputs = model(batch_spikes)\n",
    "        loss = criterion(outputs, labels)\n",
    "        loss.backward()\n",
    "        torch.nn.utils.clip_grad_norm_(model.parameters(),\n",
    "                                       max_norm=GRADIENT_CLIPPING_MAX_NORM)\n",
    "        optimizer.step()\n",
    "        total_loss += loss.item() * labels.shape[0]\n",
    "        _, predictions = torch.max(outputs, dim=1)\n",
    "        total_count += labels.shape[0]\n",
    "        correct_count += (predictions == labels).sum().item()\n",
    "\n",
    "    # print(\"train: outputs shape:\", outputs.shape)\n",
    "    # print(\"train: labels shape:\", labels.shape)\n",
    "    # labels_onehot = torch.zeros(labels.size(0), 7, device=labels.device)\n",
    "    # labels_onehot.scatter_(1, labels.unsqueeze(1), 1)  # one-hot: [batch, num_classes]\n",
    "    # loss = criterion(outputs, labels_onehot)\n",
    "    # loss.backward()\n",
    "    loss = total_loss / total_count\n",
    "    accuracy = correct_count / total_count\n",
    "    return loss, accuracy\n"
   ]
  },
  {
   "cell_type": "code",
   "execution_count": 18,
   "id": "ce94538a",
   "metadata": {},
   "outputs": [],
   "source": [
    "def evaluate(model: nn.Module, data_loader: DataLoader, criterion: nn.Module,\n",
    "             device: torch.device) -> tuple[float, float]:\n",
    "    model.eval()\n",
    "    total_loss = 0\n",
    "    total_count = 0\n",
    "    correct_count = 0\n",
    "    with torch.no_grad():\n",
    "        for batch in data_loader:\n",
    "            batch_spikes, labels = batch\n",
    "            batch_spikes = batch_spikes.to(device)\n",
    "            labels = labels.to(device)\n",
    "            batch_size, T, seq_len, feat_dim = batch_spikes.shape\n",
    "            input_dim = seq_len * feat_dim\n",
    "            batch_spikes = batch_spikes.view(batch_size, T, input_dim)\n",
    "            batch_spikes = batch_spikes.permute(1, 0, 2)\n",
    "            outputs = model(batch_spikes)\n",
    "            loss = criterion(outputs, labels)\n",
    "            total_loss += loss.item() * labels.shape[0]\n",
    "            _, predictions = torch.max(outputs, dim=1)\n",
    "            total_count += labels.shape[0]\n",
    "            correct_count += (predictions == labels).sum().item()\n",
    "    \n",
    "    # print(\"eva: outputs shape:\", outputs.shape)\n",
    "    # print(\"eva: labels shape:\", labels.shape)\n",
    "    loss = total_loss / total_count\n",
    "    # labels_onehot = torch.zeros(labels.size(0), 7, device=labels.device)\n",
    "    # labels_onehot.scatter_(1, labels.unsqueeze(1), 1)  # one-hot: [batch, num_classes]\n",
    "    # loss = criterion(outputs, labels_onehot)\n",
    "    # loss.backward()\n",
    "    accuracy = correct_count / total_count\n",
    "    return loss, accuracy\n",
    "\n"
   ]
  },
  {
   "cell_type": "code",
   "execution_count": 19,
   "id": "d80c566a",
   "metadata": {},
   "outputs": [],
   "source": [
    "def train() -> tuple[list[float], list[float], list[float], list[float]]:\n",
    "    train_loader, validation_loader, test_loader = get_data_loaders()\n",
    "    device = torch.device('cuda' if torch.cuda.is_available() else 'cpu')\n",
    "    print(f'Using device: {device}.')\n",
    "    model = SNN(T=NUM_STEPS, beta=0.8, z=2, threshold=0.8).to(device)  # Set T to match Poisson encoding steps\n",
    "    optimizer = optim.Adam(params=model.parameters(), lr=LEARNING_RATE)\n",
    "    criterion = nn.CrossEntropyLoss()\n",
    "\n",
    "    train_losses = []\n",
    "    train_accuracies = []\n",
    "    validation_losses = []\n",
    "    validation_accuracies = []\n",
    "    best_validation_loss = float('inf')\n",
    "    best_model = None\n",
    "    epochs_without_improvement = 0\n",
    "    for epoch in range(MAX_EPOCHS):\n",
    "        train_loss, train_accuracy = train_epoch(\n",
    "            model, train_loader, optimizer, criterion, device)\n",
    "        validation_loss, validation_accuracy = evaluate(\n",
    "            model, validation_loader, criterion, device)\n",
    "        train_losses.append(train_loss)\n",
    "        train_accuracies.append(train_accuracy)\n",
    "        validation_losses.append(validation_loss)\n",
    "        validation_accuracies.append(validation_accuracy)\n",
    "        if epoch == 0 or (epoch + 1) % PRINT_FREQUENCY_EPOCHS == 0:\n",
    "            print(f'Epoch {epoch + 1}: '\n",
    "                  f'Train loss: {train_loss:.4f}, '\n",
    "                  f'Train accuracy: {train_accuracy:.4f}, '\n",
    "                  f'Validation loss: {validation_loss:.4f}, '\n",
    "                  f'Validation accuracy: {validation_accuracy:.4f}')\n",
    "        if validation_loss < best_validation_loss:\n",
    "            best_validation_loss = validation_loss\n",
    "            best_model = model.state_dict()\n",
    "            epochs_without_improvement = 0\n",
    "        else:\n",
    "            epochs_without_improvement += 1\n",
    "        if epochs_without_improvement >= EARLY_STOPPING_PATIENCE:\n",
    "            print(f'Stopping because validation loss did not improve for '\n",
    "                  f'{EARLY_STOPPING_PATIENCE} epochs. Best validation loss: '\n",
    "                  f'{best_validation_loss:.4f}')\n",
    "            break\n",
    "    model.load_state_dict(best_model)\n",
    "    test_loss, test_accuracy = evaluate(model, test_loader, criterion, device)\n",
    "    print(f'Test loss: {test_loss:.4f}, Test accuracy: {test_accuracy:.4f}')\n",
    "    \n",
    "    torch.save(model.state_dict(), 'snn_classifier.pt')\n",
    "    print('Model saved as `snn_classifier.pt`.')\n",
    "    return (train_losses, train_accuracies, validation_losses, validation_accuracies)\n"
   ]
  },
  {
   "cell_type": "code",
   "execution_count": 20,
   "id": "c6ef4956",
   "metadata": {},
   "outputs": [],
   "source": [
    "def plot_training_curves(train_losses: list[float],\n",
    "                         train_accuracies: list[float],\n",
    "                         validation_losses: list[float],\n",
    "                         validation_accuracies: list[float]):\n",
    "    epochs = list(range(1, len(train_losses) + 1))\n",
    "    plt.figure()\n",
    "    plt.plot(epochs, train_losses, label='Train loss')\n",
    "    plt.plot(epochs, validation_losses, label='Validation loss')\n",
    "    plt.title('Loss Curves')\n",
    "    plt.xlabel('Epoch')\n",
    "    plt.ylabel('Loss')\n",
    "    plt.legend()\n",
    "    plt.savefig('loss.png')\n",
    "    plt.figure()\n",
    "    plt.plot(epochs, train_accuracies, label='Train accuracy')\n",
    "    plt.plot(epochs, validation_accuracies, label='Validation accuracy')\n",
    "    plt.title('Accuracy Curves')\n",
    "    plt.xlabel('Epoch')\n",
    "    plt.ylabel('Accuracy')\n",
    "    plt.legend()\n",
    "    plt.savefig('accuracy.png')\n",
    "    print('Loss and accuracy curves saved as `loss.png` and `accuracy.png`.')\n"
   ]
  },
  {
   "cell_type": "code",
   "execution_count": 21,
   "id": "cda5f61c",
   "metadata": {},
   "outputs": [
    {
     "name": "stdout",
     "output_type": "stream",
     "text": [
      "Using device: cuda.\n",
      "Epoch 1: Train loss: 1.9160, Train accuracy: 0.1883, Validation loss: 1.8984, Validation accuracy: 0.2188\n",
      "Epoch 10: Train loss: 1.8575, Train accuracy: 0.3305, Validation loss: 1.8584, Validation accuracy: 0.3312\n",
      "Epoch 20: Train loss: 1.8446, Train accuracy: 0.3523, Validation loss: 1.8454, Validation accuracy: 0.3688\n",
      "Epoch 30: Train loss: 1.8282, Train accuracy: 0.3703, Validation loss: 1.8265, Validation accuracy: 0.3875\n",
      "Epoch 40: Train loss: 1.8248, Train accuracy: 0.3539, Validation loss: 1.8220, Validation accuracy: 0.3625\n",
      "Epoch 50: Train loss: 1.8188, Train accuracy: 0.3836, Validation loss: 1.8121, Validation accuracy: 0.4000\n",
      "Epoch 60: Train loss: 1.8084, Train accuracy: 0.3937, Validation loss: 1.8074, Validation accuracy: 0.4125\n",
      "Epoch 70: Train loss: 1.8041, Train accuracy: 0.4016, Validation loss: 1.7962, Validation accuracy: 0.4062\n",
      "Epoch 80: Train loss: 1.9468, Train accuracy: 0.1055, Validation loss: 1.9482, Validation accuracy: 0.1062\n",
      "Epoch 90: Train loss: 1.9474, Train accuracy: 0.1156, Validation loss: 1.9460, Validation accuracy: 0.0938\n",
      "Epoch 100: Train loss: 1.9460, Train accuracy: 0.1250, Validation loss: 1.9470, Validation accuracy: 0.1125\n",
      "Test loss: 1.9510, Test accuracy: 0.0813\n",
      "Model saved as `snn_classifier.pt`.\n",
      "Loss and accuracy curves saved as `loss.png` and `accuracy.png`.\n"
     ]
    },
    {
     "data": {
      "image/png": "[encoded data removed]",
      "text/plain": [
       "<Figure size 640x480 with 1 Axes>"
      ]
     },
     "metadata": {},
     "output_type": "display_data"
    },
    {
     "data": {
      "image/png": "[encoded data removed]",
      "text/plain": [
       "<Figure size 640x480 with 1 Axes>"
      ]
     },
     "metadata": {},
     "output_type": "display_data"
    }
   ],
   "source": [
    "\n",
    "def main():\n",
    "    (train_losses, train_accuracies, validation_losses,\n",
    "     validation_accuracies) = train()\n",
    "    plot_training_curves(train_losses, train_accuracies, validation_losses,\n",
    "                         validation_accuracies)\n",
    "\n",
    "\n",
    "if __name__ == '__main__':\n",
    "    main()\n"
   ]
  },
  {
   "cell_type": "code",
   "execution_count": null,
   "id": "dbe6e475",
   "metadata": {},
   "outputs": [],
   "source": []
  },
  {
   "cell_type": "code",
   "execution_count": null,
   "id": "a5ded54a",
   "metadata": {},
   "outputs": [],
   "source": []
  }
 ],
 "metadata": {
  "kernelspec": {
   "display_name": "dl_proj",
   "language": "python",
   "name": "python3"
  },
  "language_info": {
   "codemirror_mode": {
    "name": "ipython",
    "version": 3
   },
   "file_extension": ".py",
   "mimetype": "text/x-python",
   "name": "python",
   "nbconvert_exporter": "python",
   "pygments_lexer": "ipython3",
   "version": "3.10.16"
  }
 },
 "nbformat": 4,
 "nbformat_minor": 5
}
